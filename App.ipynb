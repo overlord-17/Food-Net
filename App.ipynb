{
  "nbformat": 4,
  "nbformat_minor": 0,
  "metadata": {
    "colab": {
      "name": "App.ipynb",
      "provenance": [],
      "mount_file_id": "188xyW8hvqSCVu_WB8WEi9xGIUTfaZC71",
      "authorship_tag": "ABX9TyMHknCosMm0o07v0XqCcFh6",
      "include_colab_link": true
    },
    "kernelspec": {
      "display_name": "Python 3",
      "name": "python3"
    },
    "language_info": {
      "name": "python"
    }
  },
  "cells": [
    {
      "cell_type": "markdown",
      "metadata": {
        "id": "view-in-github",
        "colab_type": "text"
      },
      "source": [
        "<a href=\"https://colab.research.google.com/github/overlord-17/Food-Net/blob/main/App.ipynb\" target=\"_parent\"><img src=\"https://colab.research.google.com/assets/colab-badge.svg\" alt=\"Open In Colab\"/></a>"
      ]
    },
    {
      "cell_type": "code",
      "metadata": {
        "id": "cJlN_GxGW4Ng"
      },
      "source": [
        "!pip install gradio\n",
        "\n",
        "import tensorflow as tf\n",
        "import gradio as gr\n",
        "\n",
        "model = tf.keras.models.load_model(\"/content/drive/MyDrive/models/FoodNet-EfficientNet-fine-tuned-model\")\n",
        "class_names = ['apple_pie','baby_back_ribs','baklava','beef_carpaccio','beef_tartare','beet_salad','beignets','bibimbap','bread_pudding','breakfast_burrito','bruschetta','caesar_salad','cannoli','caprese_salad','carrot_cake','ceviche','cheesecake','cheese_plate','chicken_curry','chicken_quesadilla','chicken_wings','chocolate_cake','chocolate_mousse','churros','clam_chowder','club_sandwich','crab_cakes','creme_brulee','croque_madame','cup_cakes','deviled_eggs','donuts','dumplings','edamame','eggs_benedict','escargots','falafel','filet_mignon','fish_and_chips','foie_gras','french_fries','french_onion_soup','french_toast','fried_calamari','fried_rice','frozen_yogurt','garlic_bread','gnocchi','greek_salad','grilled_cheese_sandwich','grilled_salmon','guacamole','gyoza','hamburger','hot_and_sour_soup','hot_dog','huevos_rancheros','hummus','ice_cream','lasagna','lobster_bisque','lobster_roll_sandwich','macaroni_and_cheese','macarons','miso_soup','mussels','nachos','omelette','onion_rings','oysters','pad_thai','paella','pancakes','panna_cotta','peking_duck','pho','pizza','pork_chop','poutine','prime_rib','pulled_pork_sandwich','ramen','ravioli','red_velvet_cake','risotto','samosa','sashimi','scallops','seaweed_salad','shrimp_and_grits','spaghetti_bolognese','spaghetti_carbonara','spring_rolls','steak','strawberry_shortcake','sushi','tacos','takoyaki','tiramisu','tuna_tartare','waffles']\n",
        "\n",
        "def food_vision(img):\n",
        "  img = tf.image.resize(img, [300,300])\n",
        "  pred_prob = model.predict(tf.expand_dims(img, axis=0))[0]\n",
        "  proto = tf.make_tensor_proto(pred_prob)\n",
        "  pred_prob = tf.make_ndarray(proto)\n",
        "  output_dict = dict(zip(class_names, map(float, pred_prob)))\n",
        "  return output_dict\n",
        "  \n",
        "app = gr.Interface(\n",
        "    food_vision, \n",
        "    gr.inputs.Image(), \n",
        "    gr.outputs.Label(num_top_classes=3),\n",
        "    verbose=False\n",
        "  ).launch(debug=True)"
      ],
      "execution_count": null,
      "outputs": []
    }
  ]
}